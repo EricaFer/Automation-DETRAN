{
 "cells": [
  {
   "cell_type": "code",
   "execution_count": 1,
   "source": [
    "import pyautogui\r\n",
    "import pyperclip\r\n",
    "import time\r\n",
    "import winsound"
   ],
   "outputs": [],
   "metadata": {}
  },
  {
   "cell_type": "code",
   "execution_count": 2,
   "source": [
    "pyautogui.PAUSE = 1\n",
    "\n",
    "# Goes to first tab\n",
    "pyautogui.hotkey('ctrl','1')\n",
    "\n",
    "#Scrolls down\n",
    "pyautogui.press('pgdn')\n",
    "\n",
    "# Clicks \"I'm not a robot\"\n",
    "pyautogui.click(x=434, y=460)\n",
    "\n",
    "# Click send\n",
    "pyautogui.click(x=459, y=559)\n",
    "\n",
    "# Scroll down\n",
    "pyautogui.press('pgdn')\n",
    "\n",
    "# Click send\n",
    "pyautogui.click(x=429, y=517)\n",
    "\n",
    "# Waits for page to load\n",
    "time.sleep(5)\n",
    "\n",
    "# Get the url\n",
    "pyautogui.press('f6')\n",
    "\n",
    "# Copys url\n",
    "pyautogui.hotkey('ctrl','c')\n",
    "url = pyperclip.paste()\n",
    "\n",
    "if 'coderro' in url:\n",
    "    \n",
    "    # Goes to previous page\n",
    "    pyautogui.click(x=417, y=614)\n",
    "    \n",
    "    #Scrolls up\n",
    "    pyautogui.press('pgup')\n",
    "    \n",
    "else:\n",
    "    print('foo')"
   ],
   "outputs": [
    {
     "output_type": "error",
     "ename": "KeyboardInterrupt",
     "evalue": "",
     "traceback": [
      "\u001b[1;31m---------------------------------------------------------------------------\u001b[0m",
      "\u001b[1;31mKeyboardInterrupt\u001b[0m                         Traceback (most recent call last)",
      "\u001b[1;32m~\\AppData\\Local\\Temp/ipykernel_2692/382851154.py\u001b[0m in \u001b[0;36m<module>\u001b[1;34m\u001b[0m\n\u001b[0;32m     30\u001b[0m     \u001b[0mpyautogui\u001b[0m\u001b[1;33m.\u001b[0m\u001b[0mclick\u001b[0m\u001b[1;33m(\u001b[0m\u001b[0mx\u001b[0m\u001b[1;33m=\u001b[0m\u001b[1;36m713\u001b[0m\u001b[1;33m,\u001b[0m \u001b[0my\u001b[0m\u001b[1;33m=\u001b[0m\u001b[1;36m220\u001b[0m\u001b[1;33m)\u001b[0m\u001b[1;33m\u001b[0m\u001b[1;33m\u001b[0m\u001b[0m\n\u001b[0;32m     31\u001b[0m \u001b[1;33m\u001b[0m\u001b[0m\n\u001b[1;32m---> 32\u001b[1;33m     \u001b[0mtime\u001b[0m\u001b[1;33m.\u001b[0m\u001b[0msleep\u001b[0m\u001b[1;33m(\u001b[0m\u001b[1;36m10\u001b[0m\u001b[1;33m)\u001b[0m\u001b[1;33m\u001b[0m\u001b[1;33m\u001b[0m\u001b[0m\n\u001b[0m\u001b[0;32m     33\u001b[0m \u001b[1;33m\u001b[0m\u001b[0m\n\u001b[0;32m     34\u001b[0m     \u001b[1;32mwhile\u001b[0m \u001b[0murl\u001b[0m \u001b[1;33m!=\u001b[0m \u001b[1;34m'https://detran.rj.gov.br/_agendamento.eletronico/renach/telab2.asp'\u001b[0m\u001b[1;33m:\u001b[0m\u001b[1;33m\u001b[0m\u001b[1;33m\u001b[0m\u001b[0m\n",
      "\u001b[1;31mKeyboardInterrupt\u001b[0m: "
     ]
    }
   ],
   "metadata": {}
  }
 ],
 "metadata": {
  "interpreter": {
   "hash": "bb602139bda727a0a98c92d17d763ddea412b84bd9eb539b55f9ab468871289b"
  },
  "kernelspec": {
   "display_name": "Python 3 (ipykernel)",
   "language": "python",
   "name": "python3"
  },
  "language_info": {
   "codemirror_mode": {
    "name": "ipython",
    "version": 3
   },
   "file_extension": ".py",
   "mimetype": "text/x-python",
   "name": "python",
   "nbconvert_exporter": "python",
   "pygments_lexer": "ipython3",
   "version": "3.9.7"
  }
 },
 "nbformat": 4,
 "nbformat_minor": 2
}